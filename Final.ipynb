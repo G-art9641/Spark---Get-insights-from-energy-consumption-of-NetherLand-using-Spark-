{
 "cells": [
  {
   "cell_type": "markdown",
   "metadata": {},
   "source": [
    "ENERGY CONSUMPTION OF NETHERLANDS\n",
    "\n",
    "We will look at the electricity consumption in Netherlands for past 10 years, from 2010 to 2019. The three major network administrators in Netherlands those are Enexis, Liander, and Stedin together they provide energy to the entire country.\n",
    "\n",
    "The main aim is to analyze the amount of electricity consumed individually on each connection, a comparison between consumption and delivery percentage in certain areas, and which network providers are responsible for that.\n",
    "\n",
    "Smart meters spread across the cities, so an analysis is done to see cities that have the highest number of smart meters installed and what was their journey to reach this level of smart meters installation.\n",
    "\n",
    "Enexis, Liander, and Stedin as they are the main energy distributors in Netherlands, therefore will analyze which cities receives the minimum or maximum amount of electricity and is it related to the number of electricity connections present?"
   ]
  },
  {
   "cell_type": "code",
   "execution_count": 11,
   "metadata": {},
   "outputs": [],
   "source": [
    "import findspark\n",
    "findspark.init()\n",
    "\n",
    "from pyspark.context import SparkContext\n",
    "from pyspark.sql.session import SparkSession\n",
    "\n",
    "sc = SparkContext.getOrCreate()\n",
    "spark = SparkSession(sc)"
   ]
  },
  {
   "cell_type": "markdown",
   "metadata": {},
   "source": [
    "DataFrame Setup"
   ]
  },
  {
   "cell_type": "code",
   "execution_count": 12,
   "metadata": {},
   "outputs": [],
   "source": [
    "EnergyDF = spark.read \\\n",
    "                 .option(\"inferSchema\", \"true\") \\\n",
    "                 .option(\"header\", \"true\") \\\n",
    "                 .csv(\"electricity/*.csv\")"
   ]
  },
  {
   "cell_type": "markdown",
   "metadata": {},
   "source": [
    "Print Schema, This DataFrame has 1710916 rows"
   ]
  },
  {
   "cell_type": "code",
   "execution_count": 13,
   "metadata": {},
   "outputs": [
    {
     "name": "stdout",
     "output_type": "stream",
     "text": [
      "root\n",
      " |-- net_manager: string (nullable = true)\n",
      " |-- purchase_area: string (nullable = true)\n",
      " |-- street: string (nullable = true)\n",
      " |-- zipcode_from: string (nullable = true)\n",
      " |-- zipcode_to: string (nullable = true)\n",
      " |-- city: string (nullable = true)\n",
      " |-- num_connections: string (nullable = true)\n",
      " |-- delivery_perc: string (nullable = true)\n",
      " |-- perc_of_active_connections: string (nullable = true)\n",
      " |-- type_conn_perc: string (nullable = true)\n",
      " |-- type_of_connection: string (nullable = true)\n",
      " |-- annual_consume: string (nullable = true)\n",
      " |-- annual_consume_lowtarif_perc: string (nullable = true)\n",
      " |-- smartmeter_perc: string (nullable = true)\n",
      "\n"
     ]
    },
    {
     "data": {
      "text/markdown": [
       "This DataFrame has **1710916 rows**."
      ],
      "text/plain": [
       "<IPython.core.display.Markdown object>"
      ]
     },
     "metadata": {},
     "output_type": "display_data"
    }
   ],
   "source": [
    "from IPython.display import display, Markdown\n",
    "\n",
    "EnergyDF.printSchema()\n",
    "display(Markdown(\"This DataFrame has **%d rows**.\" % EnergyDF.count()))"
   ]
  },
  {
   "cell_type": "code",
   "execution_count": 7,
   "metadata": {},
   "outputs": [
    {
     "name": "stdout",
     "output_type": "stream",
     "text": [
      "+-----------+-------------+--------------------+------------+----------+---------+---------------+-------------+--------------------------+--------------+------------------+--------------+----------------------------+---------------+\n",
      "|net_manager|purchase_area|              street|zipcode_from|zipcode_to|     city|num_connections|delivery_perc|perc_of_active_connections|type_conn_perc|type_of_connection|annual_consume|annual_consume_lowtarif_perc|smartmeter_perc|\n",
      "+-----------+-------------+--------------------+------------+----------+---------+---------------+-------------+--------------------------+--------------+------------------+--------------+----------------------------+---------------+\n",
      "| Liander NB|      LIANDER|De Ruyterkade Ste...|      1011AA|    1011AB|AMSTERDAM|           36.0|        100.0|                     38.89|         100.0|              3x25|       16589.0|                       44.44|           25.0|\n",
      "| Liander NB|      LIANDER|       De Ruyterkade|      1011AC|    1011AC|AMSTERDAM|           39.0|        100.0|                     56.41|         100.0|              3x80|       22755.0|                       48.72|           35.9|\n",
      "| Liander NB|      LIANDER|      Oosterdokskade|      1011AD|    1011AD|AMSTERDAM|           19.0|        100.0|                      5.26|         100.0|              3x25|        4026.0|                       47.37|            0.0|\n",
      "+-----------+-------------+--------------------+------------+----------+---------+---------------+-------------+--------------------------+--------------+------------------+--------------+----------------------------+---------------+\n",
      "only showing top 3 rows\n",
      "\n"
     ]
    }
   ],
   "source": [
    "EnergyDF.show(3)"
   ]
  },
  {
   "cell_type": "code",
   "execution_count": 14,
   "metadata": {},
   "outputs": [
    {
     "data": {
      "text/plain": [
       "[Row(net_manager='Liander NB', purchase_area='LIANDER', street='Prins Hendrikkade', zipcode_from='1011AH', zipcode_to='1011AH', city='AMSTERDAM', num_connections='21.0', delivery_perc='100.0', perc_of_active_connections='100.0', type_conn_perc='100.0', type_of_connection='1x25', annual_consume='4171.0', annual_consume_lowtarif_perc='42.86', smartmeter_perc='33.33'),\n",
       " Row(net_manager='Liander NB', purchase_area='LIANDER', street='Houtkopersdwarsstraat', zipcode_from='1011AL', zipcode_to='1011AM', city='AMSTERDAM', num_connections='16.0', delivery_perc='100.0', perc_of_active_connections='81.25', type_conn_perc='100.0', type_of_connection='3x25', annual_consume='12927.0', annual_consume_lowtarif_perc='68.75', smartmeter_perc='56.25')]"
      ]
     },
     "execution_count": 14,
     "metadata": {},
     "output_type": "execute_result"
    }
   ],
   "source": [
    "EnergyDF.cache()\n",
    "EnergyDF.sample(False, 0.1).take(2)"
   ]
  },
  {
   "cell_type": "markdown",
   "metadata": {},
   "source": [
    "What the consumption of electricity per user?"
   ]
  },
  {
   "cell_type": "code",
   "execution_count": 15,
   "metadata": {},
   "outputs": [
    {
     "name": "stdout",
     "output_type": "stream",
     "text": [
      "root\n",
      " |-- consumption_per_connection: double (nullable = true)\n",
      " |-- annual_consume: string (nullable = true)\n",
      " |-- num_connections: string (nullable = true)\n",
      "\n",
      "+--------------------------+--------------+---------------+\n",
      "|consumption_per_connection|annual_consume|num_connections|\n",
      "+--------------------------+--------------+---------------+\n",
      "|        460.80555555555554|       16589.0|           36.0|\n",
      "|         583.4615384615385|       22755.0|           39.0|\n",
      "|        211.89473684210526|        4026.0|           19.0|\n",
      "|        167.57894736842104|        3184.0|           19.0|\n",
      "|                    1559.0|       21826.0|           14.0|\n",
      "+--------------------------+--------------+---------------+\n",
      "only showing top 5 rows\n",
      "\n"
     ]
    }
   ],
   "source": [
    "from pyspark.sql.functions import col\n",
    "import pyspark.sql.functions as F\n",
    "consumption_per_connection = EnergyDF.withColumn(\"consumption_per_connection\", F.col(\"annual_consume\") / F.col(\"num_connections\")).select(\"consumption_per_connection\", \"annual_consume\", \"num_connections\")\n",
    "\n",
    "consumption_per_connection.printSchema()\n",
    "\n",
    "consumption_per_connection.show(5)\n",
    "                "
   ]
  },
  {
   "cell_type": "markdown",
   "metadata": {},
   "source": [
    "Maximum Consumption by a user?"
   ]
  },
  {
   "cell_type": "code",
   "execution_count": 16,
   "metadata": {},
   "outputs": [
    {
     "name": "stdout",
     "output_type": "stream",
     "text": [
      "+-------------------------------+\n",
      "|max(consumption_per_connection)|\n",
      "+-------------------------------+\n",
      "|              9229.666666666666|\n",
      "+-------------------------------+\n",
      "\n"
     ]
    }
   ],
   "source": [
    "row1 = consumption_per_connection.agg({\"consumption_per_connection\":\"max\"}).show()"
   ]
  },
  {
   "cell_type": "markdown",
   "metadata": {},
   "source": [
    "Top 10 cities that have the highest amount of electricity consumption?"
   ]
  },
  {
   "cell_type": "code",
   "execution_count": 17,
   "metadata": {},
   "outputs": [
    {
     "name": "stdout",
     "output_type": "stream",
     "text": [
      "+----------+--------------------+\n",
      "|      city|top_ten_consumptions|\n",
      "+----------+--------------------+\n",
      "|    MEPPEL|             9999.85|\n",
      "|      BEST|             9999.78|\n",
      "|ROOSENDAAL|             9999.66|\n",
      "|  ROSMALEN|             9999.57|\n",
      "|  RADEWIJK|             9999.45|\n",
      "|       OSS|             9999.29|\n",
      "|    BAEXEM|              9999.0|\n",
      "| HEEMSKERK|              9999.0|\n",
      "|   TER AAR|                9999|\n",
      "|OKKENBROEK|                9999|\n",
      "+----------+--------------------+\n",
      "only showing top 10 rows\n",
      "\n"
     ]
    }
   ],
   "source": [
    "import pyspark.sql.functions as F\n",
    "group_city = EnergyDF.groupBy(\"city\")\n",
    "group_city.agg(F.max(\"annual_consume\").alias(\"top_ten_consumptions\")).orderBy(F.max(\"annual_consume\").desc()).show(10)"
   ]
  },
  {
   "cell_type": "markdown",
   "metadata": {},
   "source": [
    "Which areas has the highest number of smart meters ?\n",
    "\n",
    "Amsterdam has the highest percentage of smart meters\n"
   ]
  },
  {
   "cell_type": "code",
   "execution_count": 18,
   "metadata": {},
   "outputs": [
    {
     "name": "stdout",
     "output_type": "stream",
     "text": [
      "+-------------+--------------------+-------------+\n",
      "|         city|              street|top_ten_areas|\n",
      "+-------------+--------------------+-------------+\n",
      "|    AMSTERDAM|Derde Amstelvlietpad|        99.74|\n",
      "|    EINDHOVEN|          Torenallee|        99.67|\n",
      "|    AMSTERDAM|   Bert Haanstrakade|        99.67|\n",
      "|    AMSTERDAM|Mary van der Slui...|         99.6|\n",
      "|   AMSTELVEEN|      Maimonideslaan|        99.56|\n",
      "|'S-GRAVENHAGE|       Waldorpstraat|        99.55|\n",
      "|       DIEMEN| Carel Willinkgracht|        99.53|\n",
      "|       ALMERE|          Zeeduinweg|        99.49|\n",
      "|      UTRECHT| Louis Armstronglaan|        99.47|\n",
      "|      UTRECHT|       Parkzichtlaan|        99.46|\n",
      "+-------------+--------------------+-------------+\n",
      "only showing top 10 rows\n",
      "\n"
     ]
    }
   ],
   "source": [
    "import pyspark.sql.functions as F\n",
    "group_city_street = EnergyDF.groupBy(\"city\" , \"street\")\n",
    "group_city_street.agg(F.max(\"smartmeter_perc\").alias(\"top_ten_areas\")).orderBy(F.max(\"smartmeter_perc\").desc()).show(10)"
   ]
  },
  {
   "cell_type": "markdown",
   "metadata": {},
   "source": [
    "One city that has maximum number of electricity connections present and one that consume the highest amount of electricity, are they related ? \n",
    "\n",
    "Highest annual consume is 9999.85 kwh"
   ]
  },
  {
   "cell_type": "code",
   "execution_count": 19,
   "metadata": {},
   "outputs": [
    {
     "name": "stdout",
     "output_type": "stream",
     "text": [
      "+-------------------+\n",
      "|max(annual_consume)|\n",
      "+-------------------+\n",
      "|            9999.85|\n",
      "+-------------------+\n",
      "\n"
     ]
    }
   ],
   "source": [
    "row1 = EnergyDF.agg({\"annual_consume\":\"max\"}).show()"
   ]
  },
  {
   "cell_type": "markdown",
   "metadata": {},
   "source": [
    "Meppel city consumes highest amount of electricity"
   ]
  },
  {
   "cell_type": "code",
   "execution_count": 20,
   "metadata": {},
   "outputs": [
    {
     "data": {
      "text/plain": [
       "[Row(city='MEPPEL')]"
      ]
     },
     "execution_count": 20,
     "metadata": {},
     "output_type": "execute_result"
    }
   ],
   "source": [
    "EnergyDF.where(EnergyDF.annual_consume == 9999.85)\\\n",
    ".select(\"city\").collect()"
   ]
  },
  {
   "cell_type": "markdown",
   "metadata": {},
   "source": [
    "991 is the highest number of electricity connections present in Netherlands"
   ]
  },
  {
   "cell_type": "code",
   "execution_count": 21,
   "metadata": {},
   "outputs": [
    {
     "name": "stdout",
     "output_type": "stream",
     "text": [
      "+--------------------+\n",
      "|max(num_connections)|\n",
      "+--------------------+\n",
      "|                 991|\n",
      "+--------------------+\n",
      "\n"
     ]
    }
   ],
   "source": [
    "row2 = EnergyDF.agg({\"num_connections\":\"max\"}).show()"
   ]
  },
  {
   "cell_type": "markdown",
   "metadata": {},
   "source": [
    "Gerkesklooster has 991 connections"
   ]
  },
  {
   "cell_type": "code",
   "execution_count": 22,
   "metadata": {},
   "outputs": [
    {
     "data": {
      "text/plain": [
       "[Row(city='GERKESKLOOSTER'), Row(city='GERKESKLOOSTER')]"
      ]
     },
     "execution_count": 22,
     "metadata": {},
     "output_type": "execute_result"
    }
   ],
   "source": [
    "EnergyDF.where(EnergyDF.num_connections == 991)\\\n",
    ".select(\"city\").collect()"
   ]
  },
  {
   "cell_type": "markdown",
   "metadata": {},
   "source": [
    "Compare which energy provider  has the maximum connections present and delivers the highest amount of electricity\n",
    "and which has the minimum? \n"
   ]
  },
  {
   "cell_type": "code",
   "execution_count": 23,
   "metadata": {},
   "outputs": [
    {
     "name": "stdout",
     "output_type": "stream",
     "text": [
      "+-----------------+---------------+---------------+------------------+---------------+---------------+\n",
      "|      net_manager|min_connections|max_connections|avg_no_connections|min_delivery_by|max_delivery_by|\n",
      "+-----------------+---------------+---------------+------------------+---------------+---------------+\n",
      "|    8716946000005|             10|             88|19.857443609022557|          100.0|          99.21|\n",
      "|    8716886000004|             10|             99| 23.36839298597823|            0.0|           99.1|\n",
      "|    8716921000006|             10|             99| 23.24965021919597|            0.0|          99.46|\n",
      "|    8716924000003|             10|             99|24.711040113596024|          100.0|          99.32|\n",
      "|    8716874000009|             10|             99|23.079109538090503|            0.0|          99.83|\n",
      "|    8716925000002|             10|             99|25.629728020240353|          10.71|          99.61|\n",
      "|    8716892000005|             10|             99|26.913580744743292|            0.0|          99.78|\n",
      "|           Enexis|              0|             99| 96.20637865535825|             10|             99|\n",
      "|       Liander NB|           10.0|           99.0|24.175524519496125|            0.0|          99.84|\n",
      "|Liander N.V. (ZW)|             10|            991| 23.74733308170603|           1.96|           99.8|\n",
      "|Liander N.V. (NW)|             10|             99|25.415746174082887|            0.0|          99.84|\n",
      "|     Liander N.V.|             10|             99|22.291289630301556|            0.0|           99.5|\n",
      "|      Enexis B.V.|              0|             99| 61.17885635973989|           1.09|           99.6|\n",
      "+-----------------+---------------+---------------+------------------+---------------+---------------+\n",
      "\n"
     ]
    }
   ],
   "source": [
    "group_company= EnergyDF.groupBy(\"net_manager\")\n",
    "group_company.agg(F.min(\"num_connections\").alias(\"min_connections\"),\\\n",
    "                F.max(\"num_connections\").alias(\"max_connections\"),\\\n",
    "                F.avg(\"num_connections\").alias(\"avg_no_connections\"),\\\n",
    "                 F.min(\"delivery_perc\").alias(\"min_delivery_by\"),\\\n",
    "                 F.max(\"delivery_perc\").alias(\"max_delivery_by\")).show()"
   ]
  },
  {
   "cell_type": "code",
   "execution_count": 24,
   "metadata": {
    "scrolled": true
   },
   "outputs": [
    {
     "name": "stdout",
     "output_type": "stream",
     "text": [
      "+--------------------+--------------------+\n",
      "|max(max_connections)|min(min_connections)|\n",
      "+--------------------+--------------------+\n",
      "|                 991|                   0|\n",
      "+--------------------+--------------------+\n",
      "\n"
     ]
    }
   ],
   "source": [
    "x =group_company.agg(F.min(\"num_connections\").alias(\"min_connections\"),\\\n",
    "                F.max(\"num_connections\").alias(\"max_connections\"),\\\n",
    "                F.avg(\"num_connections\").alias(\"avg_no_connections\"))\n",
    "x.agg(F.max(\"max_connections\"), F.min(\"min_connections\")).show()\n"
   ]
  },
  {
   "cell_type": "markdown",
   "metadata": {},
   "source": [
    "99.84 % is the maximum electricity delivered in Neterlands  "
   ]
  },
  {
   "cell_type": "code",
   "execution_count": 25,
   "metadata": {},
   "outputs": [
    {
     "name": "stdout",
     "output_type": "stream",
     "text": [
      "+--------------------+--------------------+\n",
      "|max(max_delivery_by)|min(min_delivery_by)|\n",
      "+--------------------+--------------------+\n",
      "|               99.84|                 0.0|\n",
      "+--------------------+--------------------+\n",
      "\n"
     ]
    }
   ],
   "source": [
    "y =group_company.agg(F.min(\"delivery_perc\").alias(\"min_delivery_by\"),\\\n",
    "                F.max(\"delivery_perc\").alias(\"max_delivery_by\"))\n",
    "y.agg(F.max(\"max_delivery_by\"), F.min(\"min_delivery_by\")).show()\n"
   ]
  },
  {
   "cell_type": "markdown",
   "metadata": {},
   "source": [
    "Liander N.V. has 991 (maximum) connections, highest among all three network providers."
   ]
  },
  {
   "cell_type": "code",
   "execution_count": 26,
   "metadata": {},
   "outputs": [
    {
     "name": "stdout",
     "output_type": "stream",
     "text": [
      "+-----------------+\n",
      "|      net_manager|\n",
      "+-----------------+\n",
      "|Liander N.V. (ZW)|\n",
      "+-----------------+\n",
      "\n"
     ]
    }
   ],
   "source": [
    "x.where(x.max_connections == 991 )\\\n",
    ".select(\"net_manager\").show()"
   ]
  },
  {
   "cell_type": "markdown",
   "metadata": {},
   "source": [
    "Enexis and Enexis B.V. has lowest number of connection in Netherlands"
   ]
  },
  {
   "cell_type": "code",
   "execution_count": 27,
   "metadata": {
    "scrolled": true
   },
   "outputs": [
    {
     "name": "stdout",
     "output_type": "stream",
     "text": [
      "+-----------+\n",
      "|net_manager|\n",
      "+-----------+\n",
      "|     Enexis|\n",
      "|Enexis B.V.|\n",
      "+-----------+\n",
      "\n"
     ]
    }
   ],
   "source": [
    "x.where(x.min_connections == 0 )\\\n",
    ".select(\"net_manager\").show()"
   ]
  },
  {
   "cell_type": "markdown",
   "metadata": {},
   "source": [
    "Liander N.V and Liander NB provides the highest amount of electricity in Netherlands"
   ]
  },
  {
   "cell_type": "code",
   "execution_count": 28,
   "metadata": {},
   "outputs": [
    {
     "name": "stdout",
     "output_type": "stream",
     "text": [
      "+-----------------+\n",
      "|      net_manager|\n",
      "+-----------------+\n",
      "|       Liander NB|\n",
      "|Liander N.V. (NW)|\n",
      "+-----------------+\n",
      "\n"
     ]
    }
   ],
   "source": [
    "y.where(y.max_delivery_by == 99.84 )\\\n",
    ".select(\"net_manager\").show()"
   ]
  },
  {
   "cell_type": "code",
   "execution_count": 29,
   "metadata": {},
   "outputs": [
    {
     "name": "stdout",
     "output_type": "stream",
     "text": [
      "+-----------------+\n",
      "|      net_manager|\n",
      "+-----------------+\n",
      "|    8716886000004|\n",
      "|    8716921000006|\n",
      "|    8716874000009|\n",
      "|    8716892000005|\n",
      "|       Liander NB|\n",
      "|Liander N.V. (NW)|\n",
      "|     Liander N.V.|\n",
      "+-----------------+\n",
      "\n"
     ]
    }
   ],
   "source": [
    "y.where(y.min_delivery_by == 0.0 )\\\n",
    ".select(\"net_manager\").show()"
   ]
  }
 ],
 "metadata": {
  "kernelspec": {
   "display_name": "Python 3",
   "language": "python",
   "name": "python3"
  },
  "language_info": {
   "codemirror_mode": {
    "name": "ipython",
    "version": 3
   },
   "file_extension": ".py",
   "mimetype": "text/x-python",
   "name": "python",
   "nbconvert_exporter": "python",
   "pygments_lexer": "ipython3",
   "version": "3.7.3"
  }
 },
 "nbformat": 4,
 "nbformat_minor": 2
}
